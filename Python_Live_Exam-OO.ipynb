{
 "cells": [
  {
   "cell_type": "markdown",
   "id": "586aa10d",
   "metadata": {},
   "source": [
    "# Live Exam"
   ]
  },
  {
   "cell_type": "markdown",
   "id": "67ae3f3d",
   "metadata": {},
   "source": [
    "# QUESTION 1"
   ]
  },
  {
   "cell_type": "code",
   "execution_count": 1,
   "id": "31f5b602",
   "metadata": {},
   "outputs": [
    {
     "name": "stdout",
     "output_type": "stream",
     "text": [
      "Virat's runs is 54\n"
     ]
    }
   ],
   "source": [
    "sample_dictionary = {\n",
    "    \"Country\": {\n",
    "        \"Indian Cricket Team\": {\n",
    "            \"name\": [\"Rohit\", \"Virat\", \"Rahul\", \"shami\", \"Bumrah\"],\n",
    "            \"Runs\": {\n",
    "                \"Rohit\": 47,\n",
    "                \"Virat\": 54,\n",
    "                \"Rahul\": 66\n",
    "            }\n",
    "        }\n",
    "    }\n",
    "}\n",
    "\n",
    "virat_runs = sample_dictionary[\"Country\"][\"Indian Cricket Team\"][\"Runs\"][\"Virat\"]\n",
    "print(\"Virat's runs is\", virat_runs)\n"
   ]
  },
  {
   "cell_type": "markdown",
   "id": "99603325",
   "metadata": {},
   "source": [
    "# QUESTION 2"
   ]
  },
  {
   "cell_type": "code",
   "execution_count": 2,
   "id": "59d50f98",
   "metadata": {},
   "outputs": [
    {
     "name": "stdout",
     "output_type": "stream",
     "text": [
      "2700 does not exist in the dictionary.\n"
     ]
    }
   ],
   "source": [
    "sample_dict = {'a': 100, 'b': 2800, 'c': 300}\n",
    "\n",
    "value = 2700\n",
    "\n",
    "if value in sample_dict.values():\n",
    "    print(value, \" exists in dictionary\")\n",
    "else:\n",
    "    print(value, \"does not exist in the dictionary.\")\n"
   ]
  },
  {
   "cell_type": "markdown",
   "id": "973b7b9b",
   "metadata": {},
   "source": [
    "# QUESTION 3"
   ]
  },
  {
   "cell_type": "code",
   "execution_count": 4,
   "id": "7fbdd5e3",
   "metadata": {},
   "outputs": [
    {
     "name": "stdout",
     "output_type": "stream",
     "text": [
      "Updated set is  {'Siraj', 'Sachin', 'Kapil', 'MSD', 'Surya', 'Sehwag'}\n"
     ]
    }
   ],
   "source": [
    "sample_set = {\"Surya\", \"Kapil\", \"MSD\"}\n",
    "sample_list = [\"Sachin\", \"Siraj\", \"Sehwag\"]\n",
    "\n",
    "sample_set.update(sample_list)\n",
    "\n",
    "print('Updated set is ', sample_set)\n"
   ]
  },
  {
   "cell_type": "markdown",
   "id": "449a023f",
   "metadata": {},
   "source": [
    "# QUESTION 4"
   ]
  },
  {
   "cell_type": "code",
   "execution_count": 8,
   "id": "48dc89c4",
   "metadata": {},
   "outputs": [
    {
     "name": "stdout",
     "output_type": "stream",
     "text": [
      "Identical items are  {40, 50, 30}\n"
     ]
    }
   ],
   "source": [
    "set1 = {10, 20, 30, 40, 50}\n",
    "set2 = {30, 40, 50, 60, 70}\n",
    "\n",
    "def identical (set1, set2):\n",
    "    return set1 & set2\n",
    "\n",
    "result_set = identical(set1, set2)\n",
    "\n",
    "print(\"Identical items are \", result_set)"
   ]
  },
  {
   "cell_type": "markdown",
   "id": "8f558928",
   "metadata": {},
   "source": [
    "# QUESTION 5"
   ]
  },
  {
   "cell_type": "code",
   "execution_count": 9,
   "id": "69c3bbda",
   "metadata": {},
   "outputs": [
    {
     "name": "stdout",
     "output_type": "stream",
     "text": [
      "[1, 4, 9, 16, 25, 36, 49]\n"
     ]
    }
   ],
   "source": [
    "def square(a):\n",
    "    return a*a\n",
    "\n",
    "numbers = [1, 2, 3, 4, 5, 6, 7]\n",
    "square_value = map (square, numbers)\n",
    "\n",
    "print (list(square_value))"
   ]
  },
  {
   "cell_type": "markdown",
   "id": "ce8a912f",
   "metadata": {},
   "source": [
    "# QUESTION 6"
   ]
  },
  {
   "cell_type": "code",
   "execution_count": 11,
   "id": "8269b131",
   "metadata": {},
   "outputs": [
    {
     "data": {
      "text/plain": [
       "[5000, 6000]"
      ]
     },
     "execution_count": 11,
     "metadata": {},
     "output_type": "execute_result"
    }
   ],
   "source": [
    "list1 = [10, 20, [300, 400, [5000, 6000], 500],30, 40]\n",
    "list1[2][2]"
   ]
  },
  {
   "cell_type": "code",
   "execution_count": null,
   "id": "cb62679f",
   "metadata": {},
   "outputs": [],
   "source": []
  }
 ],
 "metadata": {
  "kernelspec": {
   "display_name": "Python 3 (ipykernel)",
   "language": "python",
   "name": "python3"
  },
  "language_info": {
   "codemirror_mode": {
    "name": "ipython",
    "version": 3
   },
   "file_extension": ".py",
   "mimetype": "text/x-python",
   "name": "python",
   "nbconvert_exporter": "python",
   "pygments_lexer": "ipython3",
   "version": "3.10.8"
  }
 },
 "nbformat": 4,
 "nbformat_minor": 5
}
